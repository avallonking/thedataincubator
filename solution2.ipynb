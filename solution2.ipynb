{
 "cells": [
  {
   "cell_type": "code",
   "execution_count": 9,
   "metadata": {},
   "outputs": [],
   "source": [
    "import numpy as np\n",
    "from scipy.special import comb"
   ]
  },
  {
   "cell_type": "code",
   "execution_count": 112,
   "metadata": {},
   "outputs": [],
   "source": [
    "def possible_path(d, n, m, start_pos):\n",
    "    way = np.zeros((n, n, m+1))\n",
    "    dp = np.zeros((d+1, m+1))\n",
    "    \n",
    "    for move in range(m+1):\n",
    "        for limit in range(n):\n",
    "            for pos in range(limit+1):\n",
    "                if move == 0:\n",
    "                    way[pos][limit][move] = 1\n",
    "                else:\n",
    "                    if pos == 0:\n",
    "                        way[pos][limit][move] = way[pos + 1][limit][move - 1]\n",
    "                    elif pos == n-1:\n",
    "                        way[pos][limit][move] = way[pos - 1][limit][move - 1]\n",
    "                    else:\n",
    "                        way[pos][limit][move] = way[pos - 1][limit][move - 1] + way[pos + 1][limit][move - 1]\n",
    "    \n",
    "    dp[0][0] = 1\n",
    "    for idx in range(1, d+1):\n",
    "        for move in range(m+1):\n",
    "            for previous in range(move+1):\n",
    "                dp[idx][move] += comb(move, previous) * \\\n",
    "                way[start_pos[idx-1]][n-1][move - previous] * dp[idx - 1][previous]\n",
    "    return dp[d][m]"
   ]
  },
  {
   "cell_type": "code",
   "execution_count": 78,
   "metadata": {},
   "outputs": [
    {
     "data": {
      "text/plain": [
       "44569724.0"
      ]
     },
     "execution_count": 78,
     "metadata": {},
     "output_type": "execute_result"
    }
   ],
   "source": [
    "# d=4, n=10, m=10.\n",
    "# valid walks start from the corner (0, 0, 0, 0)\n",
    "possible_path(4, 10, 10, (0, 0, 0, 0))"
   ]
  },
  {
   "cell_type": "code",
   "execution_count": 100,
   "metadata": {},
   "outputs": [],
   "source": [
    "# all possible paths when d = 4, n = 10, m = 10\n",
    "d = 4\n",
    "n = 10\n",
    "m = 10\n",
    "paths = np.zeros((n, n, n, n))\n",
    "for i in range(n):\n",
    "    for t in range(n):\n",
    "        for r in range(n):\n",
    "            for x in range(n):\n",
    "                paths[i][t][r][x] = possible_path(d, n, m, (i, t, r, x))"
   ]
  },
  {
   "cell_type": "code",
   "execution_count": 101,
   "metadata": {},
   "outputs": [
    {
     "data": {
      "text/plain": [
       "23.81209118548726"
      ]
     },
     "execution_count": 101,
     "metadata": {},
     "output_type": "execute_result"
    }
   ],
   "source": [
    "# the ratio of the highest count of valid walks to smallest count of valid walks\n",
    "np.max(paths) / np.min(paths)"
   ]
  },
  {
   "cell_type": "code",
   "execution_count": 102,
   "metadata": {},
   "outputs": [
    {
     "name": "stdout",
     "output_type": "stream",
     "text": [
      "0.5106829092323024\n"
     ]
    }
   ],
   "source": [
    "# the ratio of the standard deviation of the number of valid walks to \n",
    "# the mean of the number of valid walks\n",
    "print(np.std(paths, ddof=1) / np.mean(paths))"
   ]
  },
  {
   "cell_type": "code",
   "execution_count": 86,
   "metadata": {},
   "outputs": [
    {
     "data": {
      "text/plain": [
       "2479092118264.0"
      ]
     },
     "execution_count": 86,
     "metadata": {},
     "output_type": "execute_result"
    }
   ],
   "source": [
    "# d = 8, n = 12, m = 12\n",
    "# valid walks start from one of the corners\n",
    "possible_path(8, 12, 12, (0, 0, 0, 0, 0, 0, 0, 0))"
   ]
  },
  {
   "cell_type": "code",
   "execution_count": 126,
   "metadata": {},
   "outputs": [
    {
     "data": {
      "text/plain": [
       "113.51216384122472"
      ]
     },
     "execution_count": 126,
     "metadata": {},
     "output_type": "execute_result"
    }
   ],
   "source": [
    "# the ratio of the highest count of valid walks to smallest count of valid walks\n",
    "possible_path(8, 12, 12, (5, 5, 5, 5, 5, 5, 5, 5)) / possible_path(8, 12, 12, (0, 0, 0, 0, 0, 0, 0, 0))"
   ]
  },
  {
   "cell_type": "code",
   "execution_count": 138,
   "metadata": {},
   "outputs": [
    {
     "name": "stdout",
     "output_type": "stream",
     "text": [
      "(3, 3)\n",
      "(0, 0)\n"
     ]
    }
   ],
   "source": [
    "d = 2\n",
    "n = 7\n",
    "m = 6\n",
    "paths = np.zeros((n, n))\n",
    "for i in range(n):\n",
    "    for t in range(n):\n",
    "        paths[i][t] = possible_path(d, n, m, (i, t))\n",
    "print(np.unravel_index(np.argmax(paths, axis=None), paths.shape))\n",
    "print(np.unravel_index(np.argmin(paths, axis=None), paths.shape))"
   ]
  },
  {
   "cell_type": "code",
   "execution_count": 139,
   "metadata": {},
   "outputs": [
    {
     "data": {
      "text/plain": [
       "array([[ 700., 1224., 1532., 1616., 1532., 1224.,  700.],\n",
       "       [1224., 2168., 2680., 2848., 2680., 2168., 1224.],\n",
       "       [1532., 2680., 3332., 3520., 3332., 2680., 1532.],\n",
       "       [1616., 2848., 3520., 3728., 3520., 2848., 1616.],\n",
       "       [1532., 2680., 3332., 3520., 3332., 2680., 1532.],\n",
       "       [1224., 2168., 2680., 2848., 2680., 2168., 1224.],\n",
       "       [ 700., 1224., 1532., 1616., 1532., 1224.,  700.]])"
      ]
     },
     "execution_count": 139,
     "metadata": {},
     "output_type": "execute_result"
    }
   ],
   "source": [
    "paths"
   ]
  },
  {
   "cell_type": "code",
   "execution_count": 142,
   "metadata": {},
   "outputs": [
    {
     "data": {
      "text/plain": [
       "2121.469387755102"
      ]
     },
     "execution_count": 142,
     "metadata": {},
     "output_type": "execute_result"
    }
   ],
   "source": [
    "np.mean(paths)"
   ]
  },
  {
   "cell_type": "code",
   "execution_count": 141,
   "metadata": {},
   "outputs": [
    {
     "data": {
      "text/plain": [
       "103952.0"
      ]
     },
     "execution_count": 141,
     "metadata": {},
     "output_type": "execute_result"
    }
   ],
   "source": [
    "np.sum(paths)"
   ]
  },
  {
   "cell_type": "code",
   "execution_count": 147,
   "metadata": {},
   "outputs": [
    {
     "name": "stdout",
     "output_type": "stream",
     "text": [
      "103952.0 2121.469387755102\n"
     ]
    }
   ],
   "source": [
    "temp = 0\n",
    "for i in range(int(n/2)+1):\n",
    "    for t in range(i, int(n/2)+1):\n",
    "        if i == int(n/2) and t == int(n/2):\n",
    "            temp += possible_path(d, n, m, (i, t))\n",
    "        elif i == t or (t == int(n/2)):\n",
    "            temp += possible_path(d, n, m, (i, t)) * 4\n",
    "        else:\n",
    "            temp += possible_path(d, n, m, (i, t)) * 8\n",
    "print(temp, temp / n**d)"
   ]
  },
  {
   "cell_type": "code",
   "execution_count": 151,
   "metadata": {},
   "outputs": [
    {
     "name": "stdout",
     "output_type": "stream",
     "text": [
      "903.8048070527733 903.8048070527733\n"
     ]
    }
   ],
   "source": [
    "temp2 = 0\n",
    "for i in range(int(n/2)+1):\n",
    "    for t in range(i, int(n/2)+1):\n",
    "        if i == int(n/2) and t == int(n/2):\n",
    "            temp2 += (possible_path(d, n, m, (i, t)) - temp / n**d) ** 2\n",
    "        elif i == t or (t == int(n/2)):\n",
    "            temp2 += (possible_path(d, n, m, (i, t)) - temp / n**d) ** 2 * 4\n",
    "        else:\n",
    "            temp2 += (possible_path(d, n, m, (i, t)) - temp / n**d) ** 2 * 8\n",
    "print(np.sqrt(temp2 / (n**d - 1)), np.std(paths, ddof=1))"
   ]
  },
  {
   "cell_type": "code",
   "execution_count": 152,
   "metadata": {},
   "outputs": [
    {
     "name": "stdout",
     "output_type": "stream",
     "text": [
      "(3, 3, 3)\n",
      "(0, 0, 0)\n"
     ]
    }
   ],
   "source": [
    "d = 3\n",
    "n = 7\n",
    "m = 6\n",
    "paths = np.zeros((n, n, n))\n",
    "for i in range(n):\n",
    "    for t in range(n):\n",
    "        for r in range(n):\n",
    "            paths[i][t][r] = possible_path(d, n, m, (i, t, r))\n",
    "print(np.unravel_index(np.argmax(paths, axis=None), paths.shape))\n",
    "print(np.unravel_index(np.argmin(paths, axis=None), paths.shape))"
   ]
  },
  {
   "cell_type": "code",
   "execution_count": 157,
   "metadata": {},
   "outputs": [
    {
     "name": "stdout",
     "output_type": "stream",
     "text": [
      "7864908.0 10308528.0 30054.01749271137\n"
     ]
    }
   ],
   "source": [
    "temp = 0\n",
    "for i in range(int(n/2)+1):\n",
    "    for t in range(i, int(n/2)+1):\n",
    "        for r in range(t, int(n/2)+1):\n",
    "            if i == int(n/2) and t == int(n/2) and r == int(n/2):\n",
    "                temp += possible_path(d, n, m, (i, t, r))\n",
    "            elif (i == t and i == r):\n",
    "                temp += possible_path(d, n, m, (i, t, r)) * 2 ** d\n",
    "            else:\n",
    "                temp += possible_path(d, n, m, (i, t, r)) * 2 ** d * d\n",
    "print(np.sum(paths), temp, temp / n**d)"
   ]
  },
  {
   "cell_type": "code",
   "execution_count": null,
   "metadata": {},
   "outputs": [],
   "source": []
  }
 ],
 "metadata": {
  "kernelspec": {
   "display_name": "Python 3",
   "language": "python",
   "name": "python3"
  },
  "language_info": {
   "codemirror_mode": {
    "name": "ipython",
    "version": 3
   },
   "file_extension": ".py",
   "mimetype": "text/x-python",
   "name": "python",
   "nbconvert_exporter": "python",
   "pygments_lexer": "ipython3",
   "version": "3.7.4"
  }
 },
 "nbformat": 4,
 "nbformat_minor": 4
}
